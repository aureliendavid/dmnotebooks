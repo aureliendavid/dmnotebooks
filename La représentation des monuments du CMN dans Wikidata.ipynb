{
 "cells": [
  {
   "cell_type": "markdown",
   "id": "5af1f580",
   "metadata": {},
   "source": [
    "Auteur: Jean-Claude Moissinac, juin 2021\n",
    "\n",
    "Note: pour des considérations techniques sur la réalisation de ce notebook, voir le blog http://www.bobdc.com/blog/jupytersparql/\n",
    "\n",
    "Le Centre des monuments nationaux (CMN) rassemble un ensemble de monuments sur le territoire français. Certains sont présents dans Wikidata. On peut de se servir de la représentation utilisée pour ces monuments comme modèle de représentation pour d'autres monuments.\n",
    "\n",
    "D'abord, indiquons que nous allons interroger le point d'accès SPARQL de Wikidata:"
   ]
  },
  {
   "cell_type": "code",
   "execution_count": 1,
   "id": "3ce1f48a",
   "metadata": {},
   "outputs": [
    {
     "data": {
      "text/html": [
       "<div class=\"krn-spql\"><div class=\"magic\">Endpoint set to: http://query.wikidata.org/bigdata/namespace/wdq/sparql</div><div class=\"magic\">Request format: ANY</div><div class=\"magic\">Display: table</div></div>"
      ],
      "text/plain": [
       "Endpoint set to: http://query.wikidata.org/bigdata/namespace/wdq/sparql\n",
       "Request format: ANY\n",
       "Display: table\n"
      ]
     },
     "metadata": {},
     "output_type": "display_data"
    }
   ],
   "source": [
    "%endpoint http://query.wikidata.org/bigdata/namespace/wdq/sparql\n",
    "%format any\n",
    "%display table"
   ]
  },
  {
   "cell_type": "markdown",
   "id": "846a565c",
   "metadata": {},
   "source": [
    "Définissons quelques préfixes qui seront ajoutés au début de chaque requête SPARQL ci-dessous."
   ]
  },
  {
   "cell_type": "code",
   "execution_count": 15,
   "id": "caa7b155",
   "metadata": {},
   "outputs": [
    {
     "data": {
      "text/html": [
       "<div class=\"krn-spql\"><div class=\"magic\">Prefix set: wdt: = &lt;http://www.wikidata.org/prop/direct/&gt;</div><div class=\"magic\">Prefix set: wd: = &lt;http://www.wikidata.org/entity/&gt;</div><div class=\"magic\">Prefix set: rdfs: = &lt;http://www.w3.org/2000/01/rdf-schema#&gt;</div><div class=\"magic\">Prefix set: p: = &lt;http://www.wikidata.org/prop/&gt;</div><div class=\"magic\">Prefix set: ps: = &lt;http://www.wikidata.org/prop/statement/&gt;</div><div class=\"magic\">Prefix set: wikibase: = &lt;http://wikiba.se/ontology#&gt;</div><div class=\"magic\">Prefix set: bd: = &lt;http://www.bigdata.com/rdf#&gt;</div></div>"
      ],
      "text/plain": [
       "Prefix set: wdt: = <http://www.wikidata.org/prop/direct/>\n",
       "Prefix set: wd: = <http://www.wikidata.org/entity/>\n",
       "Prefix set: rdfs: = <http://www.w3.org/2000/01/rdf-schema#>\n",
       "Prefix set: p: = <http://www.wikidata.org/prop/>\n",
       "Prefix set: ps: = <http://www.wikidata.org/prop/statement/>\n",
       "Prefix set: wikibase: = <http://wikiba.se/ontology#>\n",
       "Prefix set: bd: = <http://www.bigdata.com/rdf#>\n"
      ]
     },
     "metadata": {},
     "output_type": "display_data"
    }
   ],
   "source": [
    "%PREFIX wdt: <http://www.wikidata.org/prop/direct/>\n",
    "%PREFIX wd: <http://www.wikidata.org/entity/>\n",
    "%PREFIX rdfs: <http://www.w3.org/2000/01/rdf-schema#>\n",
    "%PREFIX p: <http://www.wikidata.org/prop/>\n",
    "%PREFIX ps: <http://www.wikidata.org/prop/statement/>\n",
    "%PREFIX wikibase: <http://wikiba.se/ontology#>\n",
    "%PREFIX bd: <http://www.bigdata.com/rdf#>"
   ]
  },
  {
   "cell_type": "markdown",
   "id": "63e96e7d",
   "metadata": {},
   "source": [
    "Cherchons l'entité \"Centre des monuments nationaux\" avec l'extension SPARQL de Wikidata qui permet de faire une recherche 'libre'"
   ]
  },
  {
   "cell_type": "code",
   "execution_count": 16,
   "id": "5b743582",
   "metadata": {},
   "outputs": [
    {
     "data": {
      "text/html": [
       "<div class=\"krn-spql\"><table><tr class=hdr><th>candidate</th>\n",
       "<th>label</th></tr><tr class=odd><td class=val><a href=\"http://www.wikidata.org/entity/Q2945551\" target=\"_other\">http://www.wikidata.org/entity/Q2945551</a></td>\n",
       "<td class=val>Centre des monuments nationaux</td></tr></table><div class=\"tinfo\">Total: 1, Shown: 1</div></div>"
      ]
     },
     "metadata": {},
     "output_type": "display_data"
    }
   ],
   "source": [
    "SELECT distinct ?candidate ?label WHERE {\n",
    "  SERVICE wikibase:mwapi {\n",
    "    bd:serviceParam wikibase:api \"EntitySearch\" .\n",
    "    bd:serviceParam wikibase:endpoint \"www.wikidata.org\" .\n",
    "    bd:serviceParam mwapi:search \"Centre des monuments nationaux\" .\n",
    "    bd:serviceParam mwapi:language \"fr\" .\n",
    "    bd:serviceParam wikibase:limit 5 .\n",
    "    ?candidate wikibase:apiOutputItem mwapi:item .\n",
    "  }\n",
    "  ?candidate rdfs:label ?label;\n",
    "             filter(lang(?label)=\"fr\")\n",
    "} \n"
   ]
  },
  {
   "cell_type": "markdown",
   "id": "45b91f42",
   "metadata": {},
   "source": [
    "Nous pouvons chercher les monuments qui ont un lien avec le Centre des monuments nationaux (CMN)."
   ]
  },
  {
   "cell_type": "code",
   "execution_count": 17,
   "id": "3130aecf",
   "metadata": {},
   "outputs": [
    {
     "data": {
      "text/html": [
       "<div class=\"krn-spql\"><table><tr class=hdr><th>candidate</th>\n",
       "<th>candidateLabel</th></tr><tr class=odd><td class=val><a href=\"http://www.wikidata.org/entity/Q138101\" target=\"_other\">http://www.wikidata.org/entity/Q138101</a></td>\n",
       "<td class=val>conciergerie de Paris</td></tr><tr class=even><td class=val><a href=\"http://www.wikidata.org/entity/Q306155\" target=\"_other\">http://www.wikidata.org/entity/Q306155</a></td>\n",
       "<td class=val>abbaye du Thoronet</td></tr><tr class=odd><td class=val><a href=\"http://www.wikidata.org/entity/Q585752\" target=\"_other\">http://www.wikidata.org/entity/Q585752</a></td>\n",
       "<td class=val>Château de Vincennes</td></tr><tr class=even><td class=val><a href=\"http://www.wikidata.org/entity/Q1815544\" target=\"_other\">http://www.wikidata.org/entity/Q1815544</a></td>\n",
       "<td class=val>château de Châteaudun</td></tr><tr class=odd><td class=val><a href=\"http://www.wikidata.org/entity/Q2969939\" target=\"_other\">http://www.wikidata.org/entity/Q2969939</a></td>\n",
       "<td class=val>château de Montal</td></tr><tr class=even><td class=val><a href=\"http://www.wikidata.org/entity/Q184407\" target=\"_other\">http://www.wikidata.org/entity/Q184407</a></td>\n",
       "<td class=val>basilique Saint-Denis</td></tr><tr class=odd><td class=val><a href=\"http://www.wikidata.org/entity/Q188856\" target=\"_other\">http://www.wikidata.org/entity/Q188856</a></td>\n",
       "<td class=val>Panthéon</td></tr><tr class=even><td class=val><a href=\"http://www.wikidata.org/entity/Q578771\" target=\"_other\">http://www.wikidata.org/entity/Q578771</a></td>\n",
       "<td class=val>palais du Tau</td></tr><tr class=odd><td class=val><a href=\"http://www.wikidata.org/entity/Q1062732\" target=\"_other\">http://www.wikidata.org/entity/Q1062732</a></td>\n",
       "<td class=val>chapelle expiatoire</td></tr><tr class=even><td class=val><a href=\"http://www.wikidata.org/entity/Q1479356\" target=\"_other\">http://www.wikidata.org/entity/Q1479356</a></td>\n",
       "<td class=val>château de Talcy</td></tr><tr class=odd><td class=val><a href=\"http://www.wikidata.org/entity/Q1643144\" target=\"_other\">http://www.wikidata.org/entity/Q1643144</a></td>\n",
       "<td class=val>hôtel de Sully</td></tr><tr class=even><td class=val><a href=\"http://www.wikidata.org/entity/Q329948\" target=\"_other\">http://www.wikidata.org/entity/Q329948</a></td>\n",
       "<td class=val>Palais-Royal</td></tr><tr class=odd><td class=val><a href=\"http://www.wikidata.org/entity/Q2409187\" target=\"_other\">http://www.wikidata.org/entity/Q2409187</a></td>\n",
       "<td class=val>château de Bouges</td></tr><tr class=even><td class=val><a href=\"http://www.wikidata.org/entity/Q2968783\" target=\"_other\">http://www.wikidata.org/entity/Q2968783</a></td>\n",
       "<td class=val>château de Carrouges</td></tr><tr class=odd><td class=val><a href=\"http://www.wikidata.org/entity/Q161787\" target=\"_other\">http://www.wikidata.org/entity/Q161787</a></td>\n",
       "<td class=val>château de Champs-sur-Marne</td></tr><tr class=even><td class=val><a href=\"http://www.wikidata.org/entity/Q663673\" target=\"_other\">http://www.wikidata.org/entity/Q663673</a></td>\n",
       "<td class=val>château de Vincennes</td></tr><tr class=odd><td class=val><a href=\"http://www.wikidata.org/entity/Q2242009\" target=\"_other\">http://www.wikidata.org/entity/Q2242009</a></td>\n",
       "<td class=val>château de La Motte-Tilly</td></tr><tr class=even><td class=val><a href=\"http://www.wikidata.org/entity/Q2883480\" target=\"_other\">http://www.wikidata.org/entity/Q2883480</a></td>\n",
       "<td class=val>château de Jossigny</td></tr><tr class=odd><td class=val><a href=\"http://www.wikidata.org/entity/Q2968876\" target=\"_other\">http://www.wikidata.org/entity/Q2968876</a></td>\n",
       "<td class=val>château de Chareil-Cintrat</td></tr><tr class=even><td class=val><a href=\"http://www.wikidata.org/entity/Q193193\" target=\"_other\">http://www.wikidata.org/entity/Q193193</a></td>\n",
       "<td class=val>Sainte-Chapelle</td></tr><tr class=odd><td class=val><a href=\"http://www.wikidata.org/entity/Q2744194\" target=\"_other\">http://www.wikidata.org/entity/Q2744194</a></td>\n",
       "<td class=val>château d'Aulteribe</td></tr><tr class=even><td class=val><a href=\"http://www.wikidata.org/entity/Q2969342\" target=\"_other\">http://www.wikidata.org/entity/Q2969342</a></td>\n",
       "<td class=val>château de Gramont</td></tr><tr class=odd><td class=val><a href=\"http://www.wikidata.org/entity/Q2970324\" target=\"_other\">http://www.wikidata.org/entity/Q2970324</a></td>\n",
       "<td class=val>château de Puyguilhem</td></tr><tr class=even><td class=val><a href=\"http://www.wikidata.org/entity/Q425789\" target=\"_other\">http://www.wikidata.org/entity/Q425789</a></td>\n",
       "<td class=val>château de Castelnau-Bretenoux</td></tr><tr class=odd><td class=val><a href=\"http://www.wikidata.org/entity/Q940746\" target=\"_other\">http://www.wikidata.org/entity/Q940746</a></td>\n",
       "<td class=val>villa Savoye</td></tr><tr class=even><td class=val><a href=\"http://www.wikidata.org/entity/Q1885888\" target=\"_other\">http://www.wikidata.org/entity/Q1885888</a></td>\n",
       "<td class=val>domaine de George-Sand</td></tr><tr class=odd><td class=val><a href=\"http://www.wikidata.org/entity/Q576534\" target=\"_other\">http://www.wikidata.org/entity/Q576534</a></td>\n",
       "<td class=val>château de Coucy</td></tr><tr class=even><td class=val><a href=\"http://www.wikidata.org/entity/Q1552130\" target=\"_other\">http://www.wikidata.org/entity/Q1552130</a></td>\n",
       "<td class=val>château de Bussy-Rabutin</td></tr><tr class=odd><td class=val><a href=\"http://www.wikidata.org/entity/Q2092716\" target=\"_other\">http://www.wikidata.org/entity/Q2092716</a></td>\n",
       "<td class=val>château de Maisons-Laffitte</td></tr><tr class=even><td class=val><a href=\"http://www.wikidata.org/entity/Q2483849\" target=\"_other\">http://www.wikidata.org/entity/Q2483849</a></td>\n",
       "<td class=val>château d'Assier</td></tr><tr class=odd><td class=val><a href=\"http://www.wikidata.org/entity/Q1048155\" target=\"_other\">http://www.wikidata.org/entity/Q1048155</a></td>\n",
       "<td class=val>château d'Angers</td></tr><tr class=even><td class=val><a href=\"http://www.wikidata.org/entity/Q1787326\" target=\"_other\">http://www.wikidata.org/entity/Q1787326</a></td>\n",
       "<td class=val>château de Fougères-sur-Bièvre</td></tr><tr class=odd><td class=val><a href=\"http://www.wikidata.org/entity/Q3329144\" target=\"_other\">http://www.wikidata.org/entity/Q3329144</a></td>\n",
       "<td class=val>musée Ernest-Renan</td></tr><tr class=even><td class=val><a href=\"http://www.wikidata.org/entity/Q77221\" target=\"_other\">http://www.wikidata.org/entity/Q77221</a></td>\n",
       "<td class=val>oppidum d'Ensérune</td></tr><tr class=odd><td class=val><a href=\"http://www.wikidata.org/entity/Q518747\" target=\"_other\">http://www.wikidata.org/entity/Q518747</a></td>\n",
       "<td class=val>villa Cavrois</td></tr></table><div class=\"tinfo\">Total: 35, Shown: 35</div></div>"
      ]
     },
     "metadata": {},
     "output_type": "display_data"
    }
   ],
   "source": [
    "SELECT distinct ?candidate ?candidateLabel WHERE {\n",
    "  ?candidate ?prop <http://www.wikidata.org/entity/Q2945551> .\n",
    "  ?candidate p:P31/ps:P31/wdt:P279* wd:Q41176 .\n",
    "  SERVICE wikibase:label { bd:serviceParam wikibase:language \"fr\". } \n",
    "} "
   ]
  },
  {
   "cell_type": "markdown",
   "id": "fab6e718",
   "metadata": {},
   "source": [
    "Dans la requête, la première ligne dans le select (ligne9) sélectionne les entités dont une propriété (?prop) crée un lien avec le CMN. La ligne suivante sélectionne les entités de classe bâtiment ou une sous-classe de cete classe. La ligne suivante est une extension de Wikidata qui facilite la récupération d'un label associé à une entité. \n",
    "\n",
    "Nous pouvons maintenant chercher par quelle(s) propriété(s) ces entités sont reliées au CMN:"
   ]
  },
  {
   "cell_type": "code",
   "execution_count": 8,
   "id": "f14ed150",
   "metadata": {},
   "outputs": [
    {
     "data": {
      "text/html": [
       "<div class=\"krn-spql\"><table><tr class=hdr><th>prop</th></tr><tr class=odd><td class=val><a href=\"http://www.wikidata.org/prop/direct/P1416\" target=\"_other\">http://www.wikidata.org/prop/direct/P1416</a></td></tr><tr class=even><td class=val><a href=\"http://www.wikidata.org/prop/direct/P137\" target=\"_other\">http://www.wikidata.org/prop/direct/P137</a></td></tr><tr class=odd><td class=val><a href=\"http://www.wikidata.org/prop/direct/P466\" target=\"_other\">http://www.wikidata.org/prop/direct/P466</a></td></tr><tr class=even><td class=val><a href=\"http://www.wikidata.org/prop/direct/P127\" target=\"_other\">http://www.wikidata.org/prop/direct/P127</a></td></tr><tr class=odd><td class=val><a href=\"http://www.wikidata.org/prop/direct/P463\" target=\"_other\">http://www.wikidata.org/prop/direct/P463</a></td></tr></table><div class=\"tinfo\">Total: 5, Shown: 5</div></div>"
      ]
     },
     "metadata": {},
     "output_type": "display_data"
    }
   ],
   "source": [
    "SELECT distinct ?prop  WHERE {\n",
    "  ?candidate ?prop <http://www.wikidata.org/entity/Q2945551> .\n",
    "  ?candidate p:P31/ps:P31/wdt:P279* wd:Q41176 .\n",
    "} "
   ]
  },
  {
   "cell_type": "markdown",
   "id": "5a5fcc68",
   "metadata": {},
   "source": [
    "En cliquant sur les liens, on trouve que\n",
    "- P1416 = affiliation\n",
    "- P137 = operator\n",
    "- P466 = occupant\n",
    "- P127 = owned by\n",
    "- P463 = member of\n",
    "Ce qui illustre un problème de ce genre de dataset: les contributeurs n'expriment pas tous un fait similaire de la même façon, avec une seule et même propriété: ici le lien entre le monument et le CMN. Il est possible que toutes les propriétés utilisées soient exactes, mais on a une diversité de représentation, éventuellement légitime: par exemple, certains monuments peuvent être à la fois la propriété du CMN et un membre du CMN, mais certains ont un propriétaire distinct.\n",
    "\n",
    "Maintenant, cherchons toutes les propriétés utilisées pour décrire ces monuments et classons-les par nombre d'utilisations:"
   ]
  },
  {
   "cell_type": "code",
   "execution_count": 12,
   "id": "5a80bce7",
   "metadata": {},
   "outputs": [
    {
     "data": {
      "text/html": [
       "<div class=\"krn-spql\"><div class=\"magic\">Result maximum size: 50</div></div>"
      ],
      "text/plain": [
       "Result maximum size: 50\n"
      ]
     },
     "metadata": {},
     "output_type": "display_data"
    }
   ],
   "source": [
    "%show 50"
   ]
  },
  {
   "cell_type": "code",
   "execution_count": 14,
   "id": "4a3c2889",
   "metadata": {},
   "outputs": [
    {
     "data": {
      "text/html": [
       "<div class=\"krn-spql\"><table><tr class=hdr><th>p</th>\n",
       "<th>c</th></tr><tr class=odd><td class=val><a href=\"http://schema.org/version\" target=\"_other\">http://schema.org/version</a></td>\n",
       "<td class=val>35</td></tr><tr class=even><td class=val><a href=\"http://schema.org/dateModified\" target=\"_other\">http://schema.org/dateModified</a></td>\n",
       "<td class=val>35</td></tr><tr class=odd><td class=val><a href=\"http://schema.org/description\" target=\"_other\">http://schema.org/description</a></td>\n",
       "<td class=val>35</td></tr><tr class=even><td class=val><a href=\"http://www.w3.org/2000/01/rdf-schema#label\" target=\"_other\">http://www.w3.org/2000/01/rdf-schema#label</a></td>\n",
       "<td class=val>35</td></tr><tr class=odd><td class=val><a href=\"http://wikiba.se/ontology#statements\" target=\"_other\">http://wikiba.se/ontology#statements</a></td>\n",
       "<td class=val>35</td></tr><tr class=even><td class=val><a href=\"http://wikiba.se/ontology#sitelinks\" target=\"_other\">http://wikiba.se/ontology#sitelinks</a></td>\n",
       "<td class=val>35</td></tr><tr class=odd><td class=val><a href=\"http://wikiba.se/ontology#identifiers\" target=\"_other\">http://wikiba.se/ontology#identifiers</a></td>\n",
       "<td class=val>35</td></tr><tr class=even><td class=val><a href=\"http://www.wikidata.org/prop/direct/P17\" target=\"_other\">http://www.wikidata.org/prop/direct/P17</a></td>\n",
       "<td class=val>35</td></tr><tr class=odd><td class=val><a href=\"http://www.wikidata.org/prop/direct/P18\" target=\"_other\">http://www.wikidata.org/prop/direct/P18</a></td>\n",
       "<td class=val>35</td></tr><tr class=even><td class=val><a href=\"http://www.wikidata.org/prop/direct/P31\" target=\"_other\">http://www.wikidata.org/prop/direct/P31</a></td>\n",
       "<td class=val>35</td></tr><tr class=odd><td class=val><a href=\"http://www.wikidata.org/prop/direct/P131\" target=\"_other\">http://www.wikidata.org/prop/direct/P131</a></td>\n",
       "<td class=val>35</td></tr><tr class=even><td class=val><a href=\"http://www.wikidata.org/prop/P17\" target=\"_other\">http://www.wikidata.org/prop/P17</a></td>\n",
       "<td class=val>35</td></tr><tr class=odd><td class=val><a href=\"http://www.wikidata.org/prop/P18\" target=\"_other\">http://www.wikidata.org/prop/P18</a></td>\n",
       "<td class=val>35</td></tr><tr class=even><td class=val><a href=\"http://www.wikidata.org/prop/P31\" target=\"_other\">http://www.wikidata.org/prop/P31</a></td>\n",
       "<td class=val>35</td></tr><tr class=odd><td class=val><a href=\"http://www.wikidata.org/prop/P131\" target=\"_other\">http://www.wikidata.org/prop/P131</a></td>\n",
       "<td class=val>35</td></tr><tr class=even><td class=val><a href=\"http://www.wikidata.org/prop/direct/P373\" target=\"_other\">http://www.wikidata.org/prop/direct/P373</a></td>\n",
       "<td class=val>35</td></tr><tr class=odd><td class=val><a href=\"http://www.wikidata.org/prop/direct/P625\" target=\"_other\">http://www.wikidata.org/prop/direct/P625</a></td>\n",
       "<td class=val>35</td></tr><tr class=even><td class=val><a href=\"http://www.wikidata.org/prop/P373\" target=\"_other\">http://www.wikidata.org/prop/P373</a></td>\n",
       "<td class=val>35</td></tr><tr class=odd><td class=val><a href=\"http://www.wikidata.org/prop/P625\" target=\"_other\">http://www.wikidata.org/prop/P625</a></td>\n",
       "<td class=val>35</td></tr><tr class=even><td class=val><a href=\"http://www.wikidata.org/prop/direct/P380\" target=\"_other\">http://www.wikidata.org/prop/direct/P380</a></td>\n",
       "<td class=val>34</td></tr><tr class=odd><td class=val><a href=\"http://www.wikidata.org/prop/direct/P1435\" target=\"_other\">http://www.wikidata.org/prop/direct/P1435</a></td>\n",
       "<td class=val>34</td></tr><tr class=even><td class=val><a href=\"http://www.wikidata.org/prop/P380\" target=\"_other\">http://www.wikidata.org/prop/P380</a></td>\n",
       "<td class=val>34</td></tr><tr class=odd><td class=val><a href=\"http://www.wikidata.org/prop/P1435\" target=\"_other\">http://www.wikidata.org/prop/P1435</a></td>\n",
       "<td class=val>34</td></tr><tr class=even><td class=val><a href=\"http://www.w3.org/2004/02/skos/core#altLabel\" target=\"_other\">http://www.w3.org/2004/02/skos/core#altLabel</a></td>\n",
       "<td class=val>33</td></tr><tr class=odd><td class=val><a href=\"http://www.wikidata.org/prop/direct/P646\" target=\"_other\">http://www.wikidata.org/prop/direct/P646</a></td>\n",
       "<td class=val>31</td></tr><tr class=even><td class=val><a href=\"http://www.wikidata.org/prop/direct-normalized/P646\" target=\"_other\">http://www.wikidata.org/prop/direct-normalized/P646</a></td>\n",
       "<td class=val>31</td></tr><tr class=odd><td class=val><a href=\"http://www.wikidata.org/prop/P646\" target=\"_other\">http://www.wikidata.org/prop/P646</a></td>\n",
       "<td class=val>31</td></tr><tr class=even><td class=val><a href=\"http://www.wikidata.org/prop/direct/P137\" target=\"_other\">http://www.wikidata.org/prop/direct/P137</a></td>\n",
       "<td class=val>30</td></tr><tr class=odd><td class=val><a href=\"http://www.wikidata.org/prop/P137\" target=\"_other\">http://www.wikidata.org/prop/P137</a></td>\n",
       "<td class=val>30</td></tr><tr class=even><td class=val><a href=\"http://www.wikidata.org/prop/direct/P1416\" target=\"_other\">http://www.wikidata.org/prop/direct/P1416</a></td>\n",
       "<td class=val>30</td></tr><tr class=odd><td class=val><a href=\"http://www.wikidata.org/prop/P1416\" target=\"_other\">http://www.wikidata.org/prop/P1416</a></td>\n",
       "<td class=val>30</td></tr><tr class=even><td class=val><a href=\"http://www.wikidata.org/prop/direct/P214\" target=\"_other\">http://www.wikidata.org/prop/direct/P214</a></td>\n",
       "<td class=val>25</td></tr><tr class=odd><td class=val><a href=\"http://www.wikidata.org/prop/direct-normalized/P214\" target=\"_other\">http://www.wikidata.org/prop/direct-normalized/P214</a></td>\n",
       "<td class=val>25</td></tr><tr class=even><td class=val><a href=\"http://www.wikidata.org/prop/P214\" target=\"_other\">http://www.wikidata.org/prop/P214</a></td>\n",
       "<td class=val>25</td></tr><tr class=odd><td class=val><a href=\"http://www.wikidata.org/prop/direct/P7859\" target=\"_other\">http://www.wikidata.org/prop/direct/P7859</a></td>\n",
       "<td class=val>22</td></tr><tr class=even><td class=val><a href=\"http://www.wikidata.org/prop/P7859\" target=\"_other\">http://www.wikidata.org/prop/P7859</a></td>\n",
       "<td class=val>22</td></tr><tr class=odd><td class=val><a href=\"http://www.wikidata.org/prop/direct/P856\" target=\"_other\">http://www.wikidata.org/prop/direct/P856</a></td>\n",
       "<td class=val>19</td></tr><tr class=even><td class=val><a href=\"http://www.wikidata.org/prop/P856\" target=\"_other\">http://www.wikidata.org/prop/P856</a></td>\n",
       "<td class=val>19</td></tr><tr class=odd><td class=val><a href=\"http://www.wikidata.org/prop/direct/P127\" target=\"_other\">http://www.wikidata.org/prop/direct/P127</a></td>\n",
       "<td class=val>18</td></tr><tr class=even><td class=val><a href=\"http://www.wikidata.org/prop/P127\" target=\"_other\">http://www.wikidata.org/prop/P127</a></td>\n",
       "<td class=val>18</td></tr><tr class=odd><td class=val><a href=\"http://www.wikidata.org/prop/direct/P149\" target=\"_other\">http://www.wikidata.org/prop/direct/P149</a></td>\n",
       "<td class=val>16</td></tr><tr class=even><td class=val><a href=\"http://www.wikidata.org/prop/P149\" target=\"_other\">http://www.wikidata.org/prop/P149</a></td>\n",
       "<td class=val>16</td></tr><tr class=odd><td class=val><a href=\"http://wikiba.se/ontology#timestamp\" target=\"_other\">http://wikiba.se/ontology#timestamp</a></td>\n",
       "<td class=val>14</td></tr><tr class=even><td class=val><a href=\"http://www.wikidata.org/prop/direct/P571\" target=\"_other\">http://www.wikidata.org/prop/direct/P571</a></td>\n",
       "<td class=val>13</td></tr><tr class=odd><td class=val><a href=\"http://www.wikidata.org/prop/P571\" target=\"_other\">http://www.wikidata.org/prop/P571</a></td>\n",
       "<td class=val>13</td></tr><tr class=even><td class=val><a href=\"http://www.wikidata.org/prop/direct/P1838\" target=\"_other\">http://www.wikidata.org/prop/direct/P1838</a></td>\n",
       "<td class=val>12</td></tr><tr class=odd><td class=val><a href=\"http://www.wikidata.org/prop/P1838\" target=\"_other\">http://www.wikidata.org/prop/P1838</a></td>\n",
       "<td class=val>12</td></tr><tr class=even><td class=val><a href=\"http://www.wikidata.org/prop/direct/P244\" target=\"_other\">http://www.wikidata.org/prop/direct/P244</a></td>\n",
       "<td class=val>11</td></tr><tr class=odd><td class=val><a href=\"http://www.wikidata.org/prop/direct-normalized/P244\" target=\"_other\">http://www.wikidata.org/prop/direct-normalized/P244</a></td>\n",
       "<td class=val>11</td></tr><tr class=even><td class=val><a href=\"http://www.wikidata.org/prop/P244\" target=\"_other\">http://www.wikidata.org/prop/P244</a></td>\n",
       "<td class=val>11</td></tr></table><div class=\"tinfo\">Total: 288, Shown: 50</div></div>"
      ]
     },
     "metadata": {},
     "output_type": "display_data"
    }
   ],
   "source": [
    "SELECT  ?p (count(distinct ?candidate) as ?c) WHERE {\n",
    "  ?candidate ?prop <http://www.wikidata.org/entity/Q2945551> .\n",
    "  ?candidate p:P31/ps:P31/wdt:P279* wd:Q41176 .\n",
    "  ?candidate ?p []\n",
    "}\n",
    "group by ?p\n",
    "order by desc(?c)"
   ]
  },
  {
   "cell_type": "markdown",
   "id": "305bab42",
   "metadata": {},
   "source": [
    "On voit que 288 propriétés sont utilisées. Certaines 35 fois, surement une fois sur chacun des 35 monuments: ce seront les propriétés que nous allons envisager comme obligatoires. On peut voir aussi que de nombreuses propriétés semblent avoir deux variantes présentes le même nombre de fois, par exemple http://www.wikidata.org/prop/direct/P12 et http://www.wikidata.org/prop/P127 (les deux ont pour label owned by). Il s'agit de spécificités de mise en oeuvre de Wikidata sur lesquelles je ne vais pas m'étendre ici. Nous allons nous concentrer sur celles qui commencent par http://www.wikidata.org/prop/direct/. Nous utilisons ici en plus une construction particulière de Wikidata pour associer un label à une propriété (c'est lié aux mêmes spécificités qui font qu'un fait est accompagné d'un statement; voir https://stackoverflow.com/questions/56486888/how-to-get-property-labels-from-wikidata-using-sparql)."
   ]
  },
  {
   "cell_type": "code",
   "execution_count": 20,
   "id": "787f38d7",
   "metadata": {},
   "outputs": [
    {
     "data": {
      "text/html": [
       "<div class=\"krn-spql\"><table><tr class=hdr><th>p</th>\n",
       "<th>wdLabel</th>\n",
       "<th>c</th></tr><tr class=odd><td class=val><a href=\"http://www.wikidata.org/prop/P18\" target=\"_other\">http://www.wikidata.org/prop/P18</a></td>\n",
       "<td class=val>image</td>\n",
       "<td class=val>35</td></tr><tr class=even><td class=val><a href=\"http://www.wikidata.org/prop/P373\" target=\"_other\">http://www.wikidata.org/prop/P373</a></td>\n",
       "<td class=val>Commons category</td>\n",
       "<td class=val>35</td></tr><tr class=odd><td class=val><a href=\"http://www.wikidata.org/prop/P17\" target=\"_other\">http://www.wikidata.org/prop/P17</a></td>\n",
       "<td class=val>country</td>\n",
       "<td class=val>35</td></tr><tr class=even><td class=val><a href=\"http://www.wikidata.org/prop/P31\" target=\"_other\">http://www.wikidata.org/prop/P31</a></td>\n",
       "<td class=val>instance of</td>\n",
       "<td class=val>35</td></tr><tr class=odd><td class=val><a href=\"http://www.wikidata.org/prop/P131\" target=\"_other\">http://www.wikidata.org/prop/P131</a></td>\n",
       "<td class=val>located in the administrative territorial entity</td>\n",
       "<td class=val>35</td></tr><tr class=even><td class=val><a href=\"http://www.wikidata.org/prop/P625\" target=\"_other\">http://www.wikidata.org/prop/P625</a></td>\n",
       "<td class=val>coordinate location</td>\n",
       "<td class=val>35</td></tr><tr class=odd><td class=val><a href=\"http://www.wikidata.org/prop/P380\" target=\"_other\">http://www.wikidata.org/prop/P380</a></td>\n",
       "<td class=val>Mérimée ID</td>\n",
       "<td class=val>34</td></tr><tr class=even><td class=val><a href=\"http://www.wikidata.org/prop/P1435\" target=\"_other\">http://www.wikidata.org/prop/P1435</a></td>\n",
       "<td class=val>heritage designation</td>\n",
       "<td class=val>34</td></tr><tr class=odd><td class=val><a href=\"http://www.wikidata.org/prop/P646\" target=\"_other\">http://www.wikidata.org/prop/P646</a></td>\n",
       "<td class=val>Freebase ID</td>\n",
       "<td class=val>31</td></tr><tr class=even><td class=val><a href=\"http://www.wikidata.org/prop/P137\" target=\"_other\">http://www.wikidata.org/prop/P137</a></td>\n",
       "<td class=val>operator</td>\n",
       "<td class=val>30</td></tr><tr class=odd><td class=val><a href=\"http://www.wikidata.org/prop/P1416\" target=\"_other\">http://www.wikidata.org/prop/P1416</a></td>\n",
       "<td class=val>affiliation</td>\n",
       "<td class=val>30</td></tr><tr class=even><td class=val><a href=\"http://www.wikidata.org/prop/P214\" target=\"_other\">http://www.wikidata.org/prop/P214</a></td>\n",
       "<td class=val>VIAF ID</td>\n",
       "<td class=val>25</td></tr><tr class=odd><td class=val><a href=\"http://www.wikidata.org/prop/P7859\" target=\"_other\">http://www.wikidata.org/prop/P7859</a></td>\n",
       "<td class=val>WorldCat Identities ID</td>\n",
       "<td class=val>22</td></tr><tr class=even><td class=val><a href=\"http://www.wikidata.org/prop/P856\" target=\"_other\">http://www.wikidata.org/prop/P856</a></td>\n",
       "<td class=val>official website</td>\n",
       "<td class=val>19</td></tr><tr class=odd><td class=val><a href=\"http://www.wikidata.org/prop/P127\" target=\"_other\">http://www.wikidata.org/prop/P127</a></td>\n",
       "<td class=val>owned by</td>\n",
       "<td class=val>18</td></tr><tr class=even><td class=val><a href=\"http://www.wikidata.org/prop/P149\" target=\"_other\">http://www.wikidata.org/prop/P149</a></td>\n",
       "<td class=val>architectural style</td>\n",
       "<td class=val>16</td></tr><tr class=odd><td class=val><a href=\"http://www.wikidata.org/prop/P571\" target=\"_other\">http://www.wikidata.org/prop/P571</a></td>\n",
       "<td class=val>inception</td>\n",
       "<td class=val>13</td></tr><tr class=even><td class=val><a href=\"http://www.wikidata.org/prop/P1838\" target=\"_other\">http://www.wikidata.org/prop/P1838</a></td>\n",
       "<td class=val>PSS-archi ID</td>\n",
       "<td class=val>12</td></tr><tr class=odd><td class=val><a href=\"http://www.wikidata.org/prop/P244\" target=\"_other\">http://www.wikidata.org/prop/P244</a></td>\n",
       "<td class=val>Library of Congress authority ID</td>\n",
       "<td class=val>11</td></tr><tr class=even><td class=val><a href=\"http://www.wikidata.org/prop/P84\" target=\"_other\">http://www.wikidata.org/prop/P84</a></td>\n",
       "<td class=val>architect</td>\n",
       "<td class=val>11</td></tr><tr class=odd><td class=val><a href=\"http://www.wikidata.org/prop/P5383\" target=\"_other\">http://www.wikidata.org/prop/P5383</a></td>\n",
       "<td class=val>archINFORM project ID</td>\n",
       "<td class=val>11</td></tr><tr class=even><td class=val><a href=\"http://www.wikidata.org/prop/P7561\" target=\"_other\">http://www.wikidata.org/prop/P7561</a></td>\n",
       "<td class=val>category for the interior of the item</td>\n",
       "<td class=val>11</td></tr><tr class=odd><td class=val><a href=\"http://www.wikidata.org/prop/P454\" target=\"_other\">http://www.wikidata.org/prop/P454</a></td>\n",
       "<td class=val>Structurae structure ID</td>\n",
       "<td class=val>11</td></tr><tr class=even><td class=val><a href=\"http://www.wikidata.org/prop/P6375\" target=\"_other\">http://www.wikidata.org/prop/P6375</a></td>\n",
       "<td class=val>street address</td>\n",
       "<td class=val>10</td></tr><tr class=odd><td class=val><a href=\"http://www.wikidata.org/prop/P910\" target=\"_other\">http://www.wikidata.org/prop/P910</a></td>\n",
       "<td class=val>topic's main category</td>\n",
       "<td class=val>9</td></tr><tr class=even><td class=val><a href=\"http://www.wikidata.org/prop/P7818\" target=\"_other\">http://www.wikidata.org/prop/P7818</a></td>\n",
       "<td class=val>French Vikidia ID</td>\n",
       "<td class=val>8</td></tr><tr class=odd><td class=val><a href=\"http://www.wikidata.org/prop/P669\" target=\"_other\">http://www.wikidata.org/prop/P669</a></td>\n",
       "<td class=val>located on street</td>\n",
       "<td class=val>7</td></tr><tr class=even><td class=val><a href=\"http://www.wikidata.org/prop/P935\" target=\"_other\">http://www.wikidata.org/prop/P935</a></td>\n",
       "<td class=val>Commons gallery</td>\n",
       "<td class=val>7</td></tr><tr class=odd><td class=val><a href=\"http://www.wikidata.org/prop/P361\" target=\"_other\">http://www.wikidata.org/prop/P361</a></td>\n",
       "<td class=val>part of</td>\n",
       "<td class=val>7</td></tr><tr class=even><td class=val><a href=\"http://www.wikidata.org/prop/P1566\" target=\"_other\">http://www.wikidata.org/prop/P1566</a></td>\n",
       "<td class=val>GeoNames ID</td>\n",
       "<td class=val>7</td></tr><tr class=odd><td class=val><a href=\"http://www.wikidata.org/prop/P1705\" target=\"_other\">http://www.wikidata.org/prop/P1705</a></td>\n",
       "<td class=val>native label</td>\n",
       "<td class=val>7</td></tr><tr class=even><td class=val><a href=\"http://www.wikidata.org/prop/P227\" target=\"_other\">http://www.wikidata.org/prop/P227</a></td>\n",
       "<td class=val>GND ID</td>\n",
       "<td class=val>7</td></tr><tr class=odd><td class=val><a href=\"http://www.wikidata.org/prop/P213\" target=\"_other\">http://www.wikidata.org/prop/P213</a></td>\n",
       "<td class=val>ISNI</td>\n",
       "<td class=val>6</td></tr><tr class=even><td class=val><a href=\"http://www.wikidata.org/prop/P268\" target=\"_other\">http://www.wikidata.org/prop/P268</a></td>\n",
       "<td class=val>Bibliothèque nationale de France ID</td>\n",
       "<td class=val>6</td></tr><tr class=odd><td class=val><a href=\"http://www.wikidata.org/prop/P1417\" target=\"_other\">http://www.wikidata.org/prop/P1417</a></td>\n",
       "<td class=val>Encyclopædia Britannica Online ID</td>\n",
       "<td class=val>6</td></tr><tr class=even><td class=val><a href=\"http://www.wikidata.org/prop/P4702\" target=\"_other\">http://www.wikidata.org/prop/P4702</a></td>\n",
       "<td class=val>Google Arts &amp; Culture partner ID</td>\n",
       "<td class=val>6</td></tr><tr class=odd><td class=val><a href=\"http://www.wikidata.org/prop/P8596\" target=\"_other\">http://www.wikidata.org/prop/P8596</a></td>\n",
       "<td class=val>category for the exterior of the item</td>\n",
       "<td class=val>5</td></tr><tr class=even><td class=val><a href=\"http://www.wikidata.org/prop/P3219\" target=\"_other\">http://www.wikidata.org/prop/P3219</a></td>\n",
       "<td class=val>Encyclopædia Universalis ID</td>\n",
       "<td class=val>5</td></tr><tr class=odd><td class=val><a href=\"http://www.wikidata.org/prop/P5775\" target=\"_other\">http://www.wikidata.org/prop/P5775</a></td>\n",
       "<td class=val>image of interior</td>\n",
       "<td class=val>5</td></tr><tr class=even><td class=val><a href=\"http://www.wikidata.org/prop/P269\" target=\"_other\">http://www.wikidata.org/prop/P269</a></td>\n",
       "<td class=val>IdRef ID</td>\n",
       "<td class=val>4</td></tr><tr class=odd><td class=val><a href=\"http://www.wikidata.org/prop/P88\" target=\"_other\">http://www.wikidata.org/prop/P88</a></td>\n",
       "<td class=val>commissioned by</td>\n",
       "<td class=val>4</td></tr><tr class=even><td class=val><a href=\"http://www.wikidata.org/prop/P3963\" target=\"_other\">http://www.wikidata.org/prop/P3963</a></td>\n",
       "<td class=val>Clochers de France ID</td>\n",
       "<td class=val>4</td></tr><tr class=odd><td class=val><a href=\"http://www.wikidata.org/prop/P1004\" target=\"_other\">http://www.wikidata.org/prop/P1004</a></td>\n",
       "<td class=val>MusicBrainz place ID</td>\n",
       "<td class=val>4</td></tr><tr class=even><td class=val><a href=\"http://www.wikidata.org/prop/P527\" target=\"_other\">http://www.wikidata.org/prop/P527</a></td>\n",
       "<td class=val>has part</td>\n",
       "<td class=val>4</td></tr><tr class=odd><td class=val><a href=\"http://www.wikidata.org/prop/P463\" target=\"_other\">http://www.wikidata.org/prop/P463</a></td>\n",
       "<td class=val>member of</td>\n",
       "<td class=val>4</td></tr><tr class=even><td class=val><a href=\"http://www.wikidata.org/prop/P4839\" target=\"_other\">http://www.wikidata.org/prop/P4839</a></td>\n",
       "<td class=val>Wolfram Language entity code</td>\n",
       "<td class=val>4</td></tr><tr class=odd><td class=val><a href=\"http://www.wikidata.org/prop/P1619\" target=\"_other\">http://www.wikidata.org/prop/P1619</a></td>\n",
       "<td class=val>date of official opening</td>\n",
       "<td class=val>4</td></tr><tr class=even><td class=val><a href=\"http://www.wikidata.org/prop/P2671\" target=\"_other\">http://www.wikidata.org/prop/P2671</a></td>\n",
       "<td class=val>Google Knowledge Graph ID</td>\n",
       "<td class=val>4</td></tr><tr class=odd><td class=val><a href=\"http://www.wikidata.org/prop/P1612\" target=\"_other\">http://www.wikidata.org/prop/P1612</a></td>\n",
       "<td class=val>Commons Institution page</td>\n",
       "<td class=val>4</td></tr><tr class=even><td class=val><a href=\"http://www.wikidata.org/prop/P691\" target=\"_other\">http://www.wikidata.org/prop/P691</a></td>\n",
       "<td class=val>NKCR AUT ID</td>\n",
       "<td class=val>3</td></tr></table><div class=\"tinfo\">Total: 132, Shown: 50</div></div>"
      ]
     },
     "metadata": {},
     "output_type": "display_data"
    }
   ],
   "source": [
    "SELECT  ?p ?wdLabel (count(distinct ?candidate) as ?c) WHERE {\n",
    "  ?candidate ?prop <http://www.wikidata.org/entity/Q2945551> .\n",
    "  ?candidate p:P31/ps:P31/wdt:P279* wd:Q41176 .\n",
    "  \n",
    "  ?candidate ?p ?statement .\n",
    "\n",
    "  ?statement ?ps ?ps_ .\n",
    "  ?wd wikibase:claim ?p.\n",
    "  ?wd wikibase:statementProperty ?ps.  \n",
    "  SERVICE wikibase:label { bd:serviceParam wikibase:language \"en\" }\n",
    "}\n",
    "group by ?p ?wdLabel\n",
    "order by desc(?c)"
   ]
  },
  {
   "cell_type": "markdown",
   "id": "3e14d235",
   "metadata": {},
   "source": [
    "On voit de nombreux labels avec la chaîne ID. En fait, ce sont des identifiants d'entités équivalentes dans d'autres jeux de données. Ces identifiants permettent d'accéder à des données dans d'autres jeux de données et d'éventuellement compléter les données déjà disponibles; \"ISNI\" est aussi un identifiant. Cela peut nous suggérer des jeux de données utiles pour aller chercher des informations sur l'entité que nous souhaitons créer. Nous verrons une autre fois comment exploiter cette possibilité."
   ]
  }
 ],
 "metadata": {
  "kernelspec": {
   "display_name": "SPARQL",
   "language": "sparql",
   "name": "sparql"
  },
  "language_info": {
   "codemirror_mode": {
    "name": "sparql"
   },
   "mimetype": "application/sparql-query",
   "name": "sparql",
   "pygments_lexer": "sparql-nb"
  }
 },
 "nbformat": 4,
 "nbformat_minor": 5
}
