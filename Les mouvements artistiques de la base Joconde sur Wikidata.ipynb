{
 "cells": [
  {
   "cell_type": "markdown",
   "id": "3a693b3f",
   "metadata": {},
   "source": [
    "Auteur: Jean-Claude Moissinac, juin 2021\n",
    "\n",
    "Note 1: les valeurs mentionnées dans les blocs de commentaires sont celles obtenues au 15/6/2021; elles peuvent évoluer au fil de mises à jour effectuées dans Wikidata\n",
    "\n",
    "Note 2: pour des considérations techniques sur la réalisation de ce notebook, voir le blog http://www.bobdc.com/blog/jupytersparql/\n",
    "\n",
    "Dans ce notebook, je vais utiliser le point d'accès sparql de Wikidata pour explorer les mouvements artistiques connus de Wikidata et en rapport avec les créations répertoriées dans la base Joconde et décrites dans Wikidata. \n",
    "Pour cela, je commence par définir le point d'accès (endpoint), le format d'échange et le format d'affichage."
   ]
  },
  {
   "cell_type": "code",
   "execution_count": 10,
   "id": "d96c136b",
   "metadata": {},
   "outputs": [
    {
     "data": {
      "text/html": [
       "<div class=\"krn-spql\"><div class=\"magic\">Endpoint set to: http://query.wikidata.org/bigdata/namespace/wdq/sparql</div><div class=\"magic\">Request format: ANY</div><div class=\"magic\">Display: table</div></div>"
      ],
      "text/plain": [
       "Endpoint set to: http://query.wikidata.org/bigdata/namespace/wdq/sparql\n",
       "Request format: ANY\n",
       "Display: table\n"
      ]
     },
     "metadata": {},
     "output_type": "display_data"
    }
   ],
   "source": [
    "%endpoint http://query.wikidata.org/bigdata/namespace/wdq/sparql\n",
    "%format any\n",
    "%display table\n",
    "# The \"magics\" don't have to be in a separate cell from the actual query. "
   ]
  },
  {
   "cell_type": "markdown",
   "id": "9c372e07",
   "metadata": {},
   "source": [
    "Pour se limiter à des créations présentes dans la base Joconde, la première idée est de trouver toutes les entités qui ont un lien avec la base Joconde (wd:Q809825). "
   ]
  },
  {
   "cell_type": "code",
   "execution_count": 15,
   "id": "5df334c4",
   "metadata": {},
   "outputs": [
    {
     "data": {
      "text/html": [
       "<div class=\"krn-spql\"><table><tr class=hdr><th>item</th></tr><tr class=odd><td class=val><a href=\"http://www.wikidata.org/reference/00c92e8387b33e628ddf9ce73d11387f83e8c39c\" target=\"_other\">http://www.wikidata.org/reference/00c92e8387b33e628ddf9ce73d11387f83e8c39c</a></td></tr><tr class=even><td class=val><a href=\"http://www.wikidata.org/reference/00d1ebd194d50105b72565969e93f75190ff0d15\" target=\"_other\">http://www.wikidata.org/reference/00d1ebd194d50105b72565969e93f75190ff0d15</a></td></tr><tr class=odd><td class=val><a href=\"http://www.wikidata.org/reference/00dce694e9db108e5b1df9cd65edc8c2301063ef\" target=\"_other\">http://www.wikidata.org/reference/00dce694e9db108e5b1df9cd65edc8c2301063ef</a></td></tr><tr class=even><td class=val><a href=\"http://www.wikidata.org/reference/00eeab55f94623bb23ad1b377c27f0a46d51dcdd\" target=\"_other\">http://www.wikidata.org/reference/00eeab55f94623bb23ad1b377c27f0a46d51dcdd</a></td></tr><tr class=odd><td class=val><a href=\"http://www.wikidata.org/reference/00ffbe2f497182ae8de966cb34ec8e94ececaa6a\" target=\"_other\">http://www.wikidata.org/reference/00ffbe2f497182ae8de966cb34ec8e94ececaa6a</a></td></tr><tr class=even><td class=val><a href=\"http://www.wikidata.org/reference/0105ae6a4cd4dadfe46cace9f9e7eb0fb4f8bc70\" target=\"_other\">http://www.wikidata.org/reference/0105ae6a4cd4dadfe46cace9f9e7eb0fb4f8bc70</a></td></tr><tr class=odd><td class=val><a href=\"http://www.wikidata.org/reference/0117ef0bbb282d2cd4bb5d6c5227b048902f7c53\" target=\"_other\">http://www.wikidata.org/reference/0117ef0bbb282d2cd4bb5d6c5227b048902f7c53</a></td></tr><tr class=even><td class=val><a href=\"http://www.wikidata.org/reference/0126165f7f78c3d798898ef0ffea2762008e8068\" target=\"_other\">http://www.wikidata.org/reference/0126165f7f78c3d798898ef0ffea2762008e8068</a></td></tr><tr class=odd><td class=val><a href=\"http://www.wikidata.org/reference/012a07adf637bdd7ed36b307a863923fc720f4cd\" target=\"_other\">http://www.wikidata.org/reference/012a07adf637bdd7ed36b307a863923fc720f4cd</a></td></tr><tr class=even><td class=val><a href=\"http://www.wikidata.org/reference/01387808ad221336ebd5087b8941177030ee322a\" target=\"_other\">http://www.wikidata.org/reference/01387808ad221336ebd5087b8941177030ee322a</a></td></tr><tr class=odd><td class=val><a href=\"http://www.wikidata.org/reference/01551b2e2de953040a042504cfaad53fc606cb32\" target=\"_other\">http://www.wikidata.org/reference/01551b2e2de953040a042504cfaad53fc606cb32</a></td></tr><tr class=even><td class=val><a href=\"http://www.wikidata.org/reference/015629bef9837b2b2fff0c2854a683e885d7f3f8\" target=\"_other\">http://www.wikidata.org/reference/015629bef9837b2b2fff0c2854a683e885d7f3f8</a></td></tr><tr class=odd><td class=val><a href=\"http://www.wikidata.org/reference/01645261e0d8c6fbe1c7f5d676a43365ecdda982\" target=\"_other\">http://www.wikidata.org/reference/01645261e0d8c6fbe1c7f5d676a43365ecdda982</a></td></tr><tr class=even><td class=val><a href=\"http://www.wikidata.org/reference/017f87d500f8bc41e30dc305f6e26edafe98f3fa\" target=\"_other\">http://www.wikidata.org/reference/017f87d500f8bc41e30dc305f6e26edafe98f3fa</a></td></tr><tr class=odd><td class=val><a href=\"http://www.wikidata.org/reference/0184ed35150644b857f36802067f9f0407e9968b\" target=\"_other\">http://www.wikidata.org/reference/0184ed35150644b857f36802067f9f0407e9968b</a></td></tr><tr class=even><td class=val><a href=\"http://www.wikidata.org/reference/01a0edbdccc18805118a223bb57e3a4da55225ee\" target=\"_other\">http://www.wikidata.org/reference/01a0edbdccc18805118a223bb57e3a4da55225ee</a></td></tr><tr class=odd><td class=val><a href=\"http://www.wikidata.org/reference/01a8f7af26dda95519426f6f8555f24ddf3baa86\" target=\"_other\">http://www.wikidata.org/reference/01a8f7af26dda95519426f6f8555f24ddf3baa86</a></td></tr><tr class=even><td class=val><a href=\"http://www.wikidata.org/reference/01aa951cab52d954a7da21adc6e01285f22685e1\" target=\"_other\">http://www.wikidata.org/reference/01aa951cab52d954a7da21adc6e01285f22685e1</a></td></tr><tr class=odd><td class=val><a href=\"http://www.wikidata.org/reference/01ab3275c44cbe51423a37d508d3cb09dba4ca0c\" target=\"_other\">http://www.wikidata.org/reference/01ab3275c44cbe51423a37d508d3cb09dba4ca0c</a></td></tr><tr class=even><td class=val><a href=\"http://www.wikidata.org/reference/01af252d040711a8c6f9467edbe9c25870ccb706\" target=\"_other\">http://www.wikidata.org/reference/01af252d040711a8c6f9467edbe9c25870ccb706</a></td></tr></table><div class=\"tinfo\">Total: 4511, Shown: 20</div></div>"
      ]
     },
     "metadata": {},
     "output_type": "display_data"
    }
   ],
   "source": [
    "select distinct ?item\n",
    "where\n",
    "{\n",
    "?item ?p wd:Q809825 .\n",
    "}"
   ]
  },
  {
   "cell_type": "markdown",
   "id": "0529c1cc",
   "metadata": {},
   "source": [
    "Cela donne 4511 entités (au 15/6/2021). Certaines sont des propriétés; d'autres des créateurs. Mais, la plupart sont des références à une source de données; ces références servent à Wikidata à indiquer d'où viennent les faits décrits pat les triplets concernés par cette référence. Par exemple:"
   ]
  },
  {
   "cell_type": "code",
   "execution_count": 61,
   "id": "7034ee2e",
   "metadata": {},
   "outputs": [
    {
     "data": {
      "text/html": [
       "<div class=\"krn-spql\"><div class=\"magic\">Request format: ANY</div><div class=\"magic\">Display: table</div></div>"
      ],
      "text/plain": [
       "Request format: ANY\n",
       "Display: table\n"
      ]
     },
     "metadata": {},
     "output_type": "display_data"
    }
   ],
   "source": [
    "%format ANY\n",
    "%display table"
   ]
  },
  {
   "cell_type": "code",
   "execution_count": 63,
   "id": "a6e6892b",
   "metadata": {},
   "outputs": [
    {
     "data": {
      "text/html": [
       "<div class=\"krn-spql\"><table><tr class=hdr><th>link</th></tr><tr class=odd><td class=val><a href=\"http://www.culture.gouv.fr/public/mistral/joconde_fr?ACTION=CHERCHER&FIELD_1=REF&VALUE_1=000PE002808\" target=\"_other\">http://www.culture.gouv.fr/public/mistral/joconde_fr?ACTION=CHERCHER&amp;FIELD_1=REF&amp;VALUE_1=000PE002808</a></td></tr></table><div class=\"tinfo\">Total: 1, Shown: 1</div></div>"
      ]
     },
     "metadata": {},
     "output_type": "display_data"
    }
   ],
   "source": [
    "select ?link\n",
    "where\n",
    "{\n",
    "<http://www.wikidata.org/reference/ec603861711ed65b7acc54284085fb2a2e686028> pr:P854 ?link\n",
    "}"
   ]
  },
  {
   "cell_type": "markdown",
   "id": "b6fce2de",
   "metadata": {},
   "source": [
    "me donne par la propriété pr:P854 un lien vers la base Joconde qui correspond à une œuvre précise.\n",
    "Ce qui suggère de chercher les entités qui ont un lien avec ces références."
   ]
  },
  {
   "cell_type": "code",
   "execution_count": 59,
   "id": "bc0229c1",
   "metadata": {},
   "outputs": [
    {
     "data": {
      "text/html": [
       "<div class=\"krn-spql\"><table><tr class=hdr><th>item</th></tr><tr class=odd><td class=val><a href=\"http://www.wikidata.org/entity/statement/Q29655733-2313515E-6060-4CA5-BBF6-09BBCF721716\" target=\"_other\">http://www.wikidata.org/entity/statement/Q29655733-2313515E-6060-4CA5-BBF6-09BBCF721716</a></td></tr><tr class=even><td class=val><a href=\"http://www.wikidata.org/entity/statement/Q29655733-23F3B678-C192-4DA4-BD89-5FE71CCEEF1F\" target=\"_other\">http://www.wikidata.org/entity/statement/Q29655733-23F3B678-C192-4DA4-BD89-5FE71CCEEF1F</a></td></tr><tr class=odd><td class=val><a href=\"http://www.wikidata.org/entity/statement/Q29655733-4267C92F-59CE-49DC-A9CF-EA40CC616D43\" target=\"_other\">http://www.wikidata.org/entity/statement/Q29655733-4267C92F-59CE-49DC-A9CF-EA40CC616D43</a></td></tr><tr class=even><td class=val><a href=\"http://www.wikidata.org/entity/statement/Q29655733-6657AF1D-71BB-4D6B-8246-DF8CB2F98103\" target=\"_other\">http://www.wikidata.org/entity/statement/Q29655733-6657AF1D-71BB-4D6B-8246-DF8CB2F98103</a></td></tr><tr class=odd><td class=val><a href=\"http://www.wikidata.org/entity/statement/Q29655733-8CE0143E-AA32-4EDB-91A4-4290502B7F8B\" target=\"_other\">http://www.wikidata.org/entity/statement/Q29655733-8CE0143E-AA32-4EDB-91A4-4290502B7F8B</a></td></tr><tr class=even><td class=val><a href=\"http://www.wikidata.org/entity/statement/Q29655733-D632577E-57E7-4FA2-8A2D-B33B54770F02\" target=\"_other\">http://www.wikidata.org/entity/statement/Q29655733-D632577E-57E7-4FA2-8A2D-B33B54770F02</a></td></tr><tr class=odd><td class=val><a href=\"http://www.wikidata.org/entity/statement/Q29655733-DDF30572-E638-456E-BA3A-59718313E925\" target=\"_other\">http://www.wikidata.org/entity/statement/Q29655733-DDF30572-E638-456E-BA3A-59718313E925</a></td></tr><tr class=even><td class=val><a href=\"http://www.wikidata.org/entity/statement/Q29655733-EACFAA55-E8BF-4EBC-9F7F-78669D25E178\" target=\"_other\">http://www.wikidata.org/entity/statement/Q29655733-EACFAA55-E8BF-4EBC-9F7F-78669D25E178</a></td></tr><tr class=odd><td class=val><a href=\"http://www.wikidata.org/entity/statement/Q29848244-121144D6-DA25-4E80-8FBB-3AD2652CB21B\" target=\"_other\">http://www.wikidata.org/entity/statement/Q29848244-121144D6-DA25-4E80-8FBB-3AD2652CB21B</a></td></tr><tr class=even><td class=val><a href=\"http://www.wikidata.org/entity/statement/Q29848244-24A539A2-82F8-4857-B40A-AA7A155D090B\" target=\"_other\">http://www.wikidata.org/entity/statement/Q29848244-24A539A2-82F8-4857-B40A-AA7A155D090B</a></td></tr><tr class=odd><td class=val><a href=\"http://www.wikidata.org/entity/statement/Q29848244-7E39E484-F895-468A-ABEB-F58F28288182\" target=\"_other\">http://www.wikidata.org/entity/statement/Q29848244-7E39E484-F895-468A-ABEB-F58F28288182</a></td></tr><tr class=even><td class=val><a href=\"http://www.wikidata.org/entity/statement/Q29848244-9332D0FB-5D29-49CA-A693-1CA76A7A4798\" target=\"_other\">http://www.wikidata.org/entity/statement/Q29848244-9332D0FB-5D29-49CA-A693-1CA76A7A4798</a></td></tr><tr class=odd><td class=val><a href=\"http://www.wikidata.org/entity/statement/Q29848244-C94F39D7-6A4D-4725-BE9F-52DB58554D85\" target=\"_other\">http://www.wikidata.org/entity/statement/Q29848244-C94F39D7-6A4D-4725-BE9F-52DB58554D85</a></td></tr><tr class=even><td class=val><a href=\"http://www.wikidata.org/entity/statement/Q29848244-CE0963FC-4E5C-425E-85EC-05D998235259\" target=\"_other\">http://www.wikidata.org/entity/statement/Q29848244-CE0963FC-4E5C-425E-85EC-05D998235259</a></td></tr><tr class=odd><td class=val><a href=\"http://www.wikidata.org/entity/statement/Q29848244-DD00CC2C-7608-49EF-8593-8B60D4904022\" target=\"_other\">http://www.wikidata.org/entity/statement/Q29848244-DD00CC2C-7608-49EF-8593-8B60D4904022</a></td></tr><tr class=even><td class=val><a href=\"http://www.wikidata.org/entity/statement/Q29848244-EFC35C5A-3130-4D74-8572-4FF58CBED945\" target=\"_other\">http://www.wikidata.org/entity/statement/Q29848244-EFC35C5A-3130-4D74-8572-4FF58CBED945</a></td></tr><tr class=odd><td class=val><a href=\"http://www.wikidata.org/entity/statement/Q29647966-30F9710C-453B-485C-A709-E814112A7801\" target=\"_other\">http://www.wikidata.org/entity/statement/Q29647966-30F9710C-453B-485C-A709-E814112A7801</a></td></tr><tr class=even><td class=val><a href=\"http://www.wikidata.org/entity/statement/Q29647966-344D94EA-746F-459F-955B-85270F746B81\" target=\"_other\">http://www.wikidata.org/entity/statement/Q29647966-344D94EA-746F-459F-955B-85270F746B81</a></td></tr><tr class=odd><td class=val><a href=\"http://www.wikidata.org/entity/statement/Q29647966-7D922312-1D99-4228-A90A-F453DA0025EC\" target=\"_other\">http://www.wikidata.org/entity/statement/Q29647966-7D922312-1D99-4228-A90A-F453DA0025EC</a></td></tr><tr class=even><td class=val><a href=\"http://www.wikidata.org/entity/statement/Q29647966-A37391B9-6F43-42F4-B408-9AB13BEDAEDD\" target=\"_other\">http://www.wikidata.org/entity/statement/Q29647966-A37391B9-6F43-42F4-B408-9AB13BEDAEDD</a></td></tr></table><div class=\"tinfo\">Total: 80216, Shown: 20</div></div>"
      ]
     },
     "metadata": {},
     "output_type": "display_data"
    }
   ],
   "source": [
    "select distinct ?item\n",
    "where\n",
    "{\n",
    "?ref ?p wd:Q809825 .\n",
    "filter(contains(str(?ref), \"http://www.wikidata.org/reference/\"))\n",
    "?item ?pref ?ref\n",
    "}"
   ]
  },
  {
   "cell_type": "markdown",
   "id": "51c23aa5",
   "metadata": {},
   "source": [
    "donne 80216 entités (au 15/6/2021), qui sont tous des 'statements', tels que définis par Wikidata. Les statements sont des 'faits' relatifs à une entité. Voyons sur un exemple quel genre d'entité est concerné:"
   ]
  },
  {
   "cell_type": "code",
   "execution_count": 18,
   "id": "651f03a0",
   "metadata": {},
   "outputs": [
    {
     "data": {
      "text/html": [
       "<div class=\"krn-spql\"><table><tr class=hdr><th>item</th>\n",
       "<th>p</th></tr><tr class=odd><td class=val><a href=\"http://www.wikidata.org/entity/Q29656881\" target=\"_other\">http://www.wikidata.org/entity/Q29656881</a></td>\n",
       "<td class=val><a href=\"http://www.wikidata.org/prop/P195\" target=\"_other\">http://www.wikidata.org/prop/P195</a></td></tr></table><div class=\"tinfo\">Total: 1, Shown: 1</div></div>"
      ]
     },
     "metadata": {},
     "output_type": "display_data"
    }
   ],
   "source": [
    "select ?item ?p\n",
    "where\n",
    "{\n",
    "?item ?p <http://www.wikidata.org/entity/statement/Q29656881-4BBBE7E8-1606-4332-84FA-61C2DBD2F32A>\n",
    "}"
   ]
  },
  {
   "cell_type": "markdown",
   "id": "6e814cc9",
   "metadata": {},
   "source": [
    "Relié au statement par la propriété 'collection' (p:P195), je trouve une peinture: wd:Q29656881.\n",
    "Je trouve 9169 entités (au 15/6/2021)-essentiellement des oeuvres ou créations- reliées à ces statements:"
   ]
  },
  {
   "cell_type": "code",
   "execution_count": 19,
   "id": "16f308e1",
   "metadata": {},
   "outputs": [
    {
     "data": {
      "text/html": [
       "<div class=\"krn-spql\"><table><tr class=hdr><th>item</th></tr><tr class=odd><td class=val><a href=\"http://www.wikidata.org/entity/Q2892964\" target=\"_other\">http://www.wikidata.org/entity/Q2892964</a></td></tr><tr class=even><td class=val><a href=\"http://www.wikidata.org/entity/Q18572937\" target=\"_other\">http://www.wikidata.org/entity/Q18572937</a></td></tr><tr class=odd><td class=val><a href=\"http://www.wikidata.org/entity/Q18573608\" target=\"_other\">http://www.wikidata.org/entity/Q18573608</a></td></tr><tr class=even><td class=val><a href=\"http://www.wikidata.org/entity/Q28950338\" target=\"_other\">http://www.wikidata.org/entity/Q28950338</a></td></tr><tr class=odd><td class=val><a href=\"http://www.wikidata.org/entity/Q29644503\" target=\"_other\">http://www.wikidata.org/entity/Q29644503</a></td></tr><tr class=even><td class=val><a href=\"http://www.wikidata.org/entity/Q29644739\" target=\"_other\">http://www.wikidata.org/entity/Q29644739</a></td></tr><tr class=odd><td class=val><a href=\"http://www.wikidata.org/entity/Q29645278\" target=\"_other\">http://www.wikidata.org/entity/Q29645278</a></td></tr><tr class=even><td class=val><a href=\"http://www.wikidata.org/entity/Q29651692\" target=\"_other\">http://www.wikidata.org/entity/Q29651692</a></td></tr><tr class=odd><td class=val><a href=\"http://www.wikidata.org/entity/Q29656165\" target=\"_other\">http://www.wikidata.org/entity/Q29656165</a></td></tr><tr class=even><td class=val><a href=\"http://www.wikidata.org/entity/Q29656881\" target=\"_other\">http://www.wikidata.org/entity/Q29656881</a></td></tr><tr class=odd><td class=val><a href=\"http://www.wikidata.org/entity/Q29842277\" target=\"_other\">http://www.wikidata.org/entity/Q29842277</a></td></tr><tr class=even><td class=val><a href=\"http://www.wikidata.org/entity/Q29842341\" target=\"_other\">http://www.wikidata.org/entity/Q29842341</a></td></tr><tr class=odd><td class=val><a href=\"http://www.wikidata.org/entity/Q29855894\" target=\"_other\">http://www.wikidata.org/entity/Q29855894</a></td></tr><tr class=even><td class=val><a href=\"http://www.wikidata.org/entity/Q29864702\" target=\"_other\">http://www.wikidata.org/entity/Q29864702</a></td></tr><tr class=odd><td class=val><a href=\"http://www.wikidata.org/entity/Q29643931\" target=\"_other\">http://www.wikidata.org/entity/Q29643931</a></td></tr><tr class=even><td class=val><a href=\"http://www.wikidata.org/entity/Q29644923\" target=\"_other\">http://www.wikidata.org/entity/Q29644923</a></td></tr><tr class=odd><td class=val><a href=\"http://www.wikidata.org/entity/Q29650151\" target=\"_other\">http://www.wikidata.org/entity/Q29650151</a></td></tr><tr class=even><td class=val><a href=\"http://www.wikidata.org/entity/Q29654498\" target=\"_other\">http://www.wikidata.org/entity/Q29654498</a></td></tr><tr class=odd><td class=val><a href=\"http://www.wikidata.org/entity/Q29656286\" target=\"_other\">http://www.wikidata.org/entity/Q29656286</a></td></tr><tr class=even><td class=val><a href=\"http://www.wikidata.org/entity/Q29656399\" target=\"_other\">http://www.wikidata.org/entity/Q29656399</a></td></tr></table><div class=\"tinfo\">Total: 9169, Shown: 20</div></div>"
      ]
     },
     "metadata": {},
     "output_type": "display_data"
    }
   ],
   "source": [
    "select distinct ?item\n",
    "where\n",
    "{\n",
    "?ref ?p wd:Q809825 .\n",
    "filter(contains(str(?ref), \"http://www.wikidata.org/reference/\"))\n",
    "?statement ?pref ?ref .\n",
    "?item ?ps ?statement .\n",
    "}"
   ]
  },
  {
   "cell_type": "markdown",
   "id": "3d09e77a",
   "metadata": {},
   "source": [
    "Je cherche s'il y a des mouvements directement associés aux œuvres rattachées à Joconde ou aux créateurs associés à ces œuvres.\n",
    "\n",
    "Pour les entités directement liées à ces statements:"
   ]
  },
  {
   "cell_type": "code",
   "execution_count": 27,
   "id": "57e1e00d",
   "metadata": {},
   "outputs": [
    {
     "data": {
      "text/html": [
       "<div class=\"krn-spql\"><table><tr class=hdr><th>mvt</th></tr><tr class=odd><td class=val><a href=\"http://www.wikidata.org/entity/Q122960\" target=\"_other\">http://www.wikidata.org/entity/Q122960</a></td></tr><tr class=even><td class=val><a href=\"http://www.wikidata.org/entity/Q122960\" target=\"_other\">http://www.wikidata.org/entity/Q122960</a></td></tr><tr class=odd><td class=val><a href=\"http://www.wikidata.org/entity/Q122960\" target=\"_other\">http://www.wikidata.org/entity/Q122960</a></td></tr><tr class=even><td class=val><a href=\"http://www.wikidata.org/entity/Q122960\" target=\"_other\">http://www.wikidata.org/entity/Q122960</a></td></tr><tr class=odd><td class=val><a href=\"http://www.wikidata.org/entity/Q122960\" target=\"_other\">http://www.wikidata.org/entity/Q122960</a></td></tr><tr class=even><td class=val><a href=\"http://www.wikidata.org/entity/Q122960\" target=\"_other\">http://www.wikidata.org/entity/Q122960</a></td></tr><tr class=odd><td class=val><a href=\"http://www.wikidata.org/entity/Q122960\" target=\"_other\">http://www.wikidata.org/entity/Q122960</a></td></tr><tr class=even><td class=val><a href=\"http://www.wikidata.org/entity/Q122960\" target=\"_other\">http://www.wikidata.org/entity/Q122960</a></td></tr><tr class=odd><td class=val><a href=\"http://www.wikidata.org/entity/Q122960\" target=\"_other\">http://www.wikidata.org/entity/Q122960</a></td></tr><tr class=even><td class=val><a href=\"http://www.wikidata.org/entity/Q122960\" target=\"_other\">http://www.wikidata.org/entity/Q122960</a></td></tr><tr class=odd><td class=val><a href=\"http://www.wikidata.org/entity/Q1474884\" target=\"_other\">http://www.wikidata.org/entity/Q1474884</a></td></tr><tr class=even><td class=val><a href=\"http://www.wikidata.org/entity/Q1474884\" target=\"_other\">http://www.wikidata.org/entity/Q1474884</a></td></tr><tr class=odd><td class=val><a href=\"http://www.wikidata.org/entity/Q1474884\" target=\"_other\">http://www.wikidata.org/entity/Q1474884</a></td></tr><tr class=even><td class=val><a href=\"http://www.wikidata.org/entity/Q1474884\" target=\"_other\">http://www.wikidata.org/entity/Q1474884</a></td></tr><tr class=odd><td class=val><a href=\"http://www.wikidata.org/entity/Q1474884\" target=\"_other\">http://www.wikidata.org/entity/Q1474884</a></td></tr><tr class=even><td class=val><a href=\"http://www.wikidata.org/entity/Q1474884\" target=\"_other\">http://www.wikidata.org/entity/Q1474884</a></td></tr><tr class=odd><td class=val><a href=\"http://www.wikidata.org/entity/Q1474884\" target=\"_other\">http://www.wikidata.org/entity/Q1474884</a></td></tr><tr class=even><td class=val><a href=\"http://www.wikidata.org/entity/Q1474884\" target=\"_other\">http://www.wikidata.org/entity/Q1474884</a></td></tr><tr class=odd><td class=val><a href=\"http://www.wikidata.org/entity/Q200034\" target=\"_other\">http://www.wikidata.org/entity/Q200034</a></td></tr><tr class=even><td class=val><a href=\"http://www.wikidata.org/entity/Q200034\" target=\"_other\">http://www.wikidata.org/entity/Q200034</a></td></tr></table><div class=\"tinfo\">Total: 2702, Shown: 20</div></div>"
      ]
     },
     "metadata": {},
     "output_type": "display_data"
    }
   ],
   "source": [
    "select ?mvt\n",
    "where\n",
    "{\n",
    "?ref ?p wd:Q809825 .\n",
    "filter(contains(str(?ref), \"http://www.wikidata.org/reference/\"))\n",
    "?statement ?pref ?ref .\n",
    "?item ?ps ?statement .\n",
    "?item wdt:P135 ?mvt .\n",
    "}"
   ]
  },
  {
   "cell_type": "markdown",
   "id": "eacbfcda",
   "metadata": {},
   "source": [
    "permet de trouver 2701 entités (au 15/6/2021) reliées à un mouvement. Et:"
   ]
  },
  {
   "cell_type": "code",
   "execution_count": 36,
   "id": "2ef04a0d",
   "metadata": {},
   "outputs": [
    {
     "data": {
      "text/html": [
       "<div class=\"krn-spql\"><table><tr class=hdr><th>mvt</th>\n",
       "<th>mvtLabel</th>\n",
       "<th>c</th></tr><tr class=odd><td class=val><a href=\"http://www.wikidata.org/entity/Q14378\" target=\"_other\">http://www.wikidata.org/entity/Q14378</a></td>\n",
       "<td class=val>neoclassicism</td>\n",
       "<td class=val>439</td></tr><tr class=even><td class=val><a href=\"http://www.wikidata.org/entity/Q189458\" target=\"_other\">http://www.wikidata.org/entity/Q189458</a></td>\n",
       "<td class=val>academic art</td>\n",
       "<td class=val>209</td></tr><tr class=odd><td class=val><a href=\"http://www.wikidata.org/entity/Q170292\" target=\"_other\">http://www.wikidata.org/entity/Q170292</a></td>\n",
       "<td class=val>classicism</td>\n",
       "<td class=val>201</td></tr><tr class=even><td class=val><a href=\"http://www.wikidata.org/entity/Q443153\" target=\"_other\">http://www.wikidata.org/entity/Q443153</a></td>\n",
       "<td class=val>Flemish Primitives</td>\n",
       "<td class=val>197</td></tr><tr class=odd><td class=val><a href=\"http://www.wikidata.org/entity/Q122960\" target=\"_other\">http://www.wikidata.org/entity/Q122960</a></td>\n",
       "<td class=val>Rococo</td>\n",
       "<td class=val>188</td></tr><tr class=even><td class=val><a href=\"http://www.wikidata.org/entity/Q37853\" target=\"_other\">http://www.wikidata.org/entity/Q37853</a></td>\n",
       "<td class=val>Baroque</td>\n",
       "<td class=val>146</td></tr><tr class=odd><td class=val><a href=\"http://www.wikidata.org/entity/Q131808\" target=\"_other\">http://www.wikidata.org/entity/Q131808</a></td>\n",
       "<td class=val>Mannerism</td>\n",
       "<td class=val>139</td></tr><tr class=even><td class=val><a href=\"http://www.wikidata.org/entity/Q37068\" target=\"_other\">http://www.wikidata.org/entity/Q37068</a></td>\n",
       "<td class=val>Romanticism</td>\n",
       "<td class=val>120</td></tr><tr class=odd><td class=val><a href=\"http://www.wikidata.org/entity/Q429811\" target=\"_other\">http://www.wikidata.org/entity/Q429811</a></td>\n",
       "<td class=val>early Christian art and architecture</td>\n",
       "<td class=val>114</td></tr><tr class=even><td class=val><a href=\"http://www.wikidata.org/entity/Q1404472\" target=\"_other\">http://www.wikidata.org/entity/Q1404472</a></td>\n",
       "<td class=val>Italian Renaissance</td>\n",
       "<td class=val>112</td></tr><tr class=odd><td class=val><a href=\"http://www.wikidata.org/entity/Q1362251\" target=\"_other\">http://www.wikidata.org/entity/Q1362251</a></td>\n",
       "<td class=val>Roman sculpture</td>\n",
       "<td class=val>93</td></tr><tr class=even><td class=val><a href=\"http://www.wikidata.org/entity/Q42865\" target=\"_other\">http://www.wikidata.org/entity/Q42865</a></td>\n",
       "<td class=val>Orientalism</td>\n",
       "<td class=val>76</td></tr><tr class=odd><td class=val><a href=\"http://www.wikidata.org/entity/Q2352880\" target=\"_other\">http://www.wikidata.org/entity/Q2352880</a></td>\n",
       "<td class=val>Dutch Golden Age painting</td>\n",
       "<td class=val>72</td></tr><tr class=even><td class=val><a href=\"http://www.wikidata.org/entity/Q1474884\" target=\"_other\">http://www.wikidata.org/entity/Q1474884</a></td>\n",
       "<td class=val>High Renaissance</td>\n",
       "<td class=val>69</td></tr><tr class=odd><td class=val><a href=\"http://www.wikidata.org/entity/Q40415\" target=\"_other\">http://www.wikidata.org/entity/Q40415</a></td>\n",
       "<td class=val>Impressionism</td>\n",
       "<td class=val>52</td></tr><tr class=even><td class=val><a href=\"http://www.wikidata.org/entity/Q947129\" target=\"_other\">http://www.wikidata.org/entity/Q947129</a></td>\n",
       "<td class=val>Gothic painting</td>\n",
       "<td class=val>42</td></tr><tr class=odd><td class=val><a href=\"http://www.wikidata.org/entity/Q1747618\" target=\"_other\">http://www.wikidata.org/entity/Q1747618</a></td>\n",
       "<td class=val>ancient Greek art</td>\n",
       "<td class=val>36</td></tr><tr class=even><td class=val><a href=\"http://www.wikidata.org/entity/Q610687\" target=\"_other\">http://www.wikidata.org/entity/Q610687</a></td>\n",
       "<td class=val>Venetian school</td>\n",
       "<td class=val>36</td></tr><tr class=odd><td class=val><a href=\"http://www.wikidata.org/entity/Q1351624\" target=\"_other\">http://www.wikidata.org/entity/Q1351624</a></td>\n",
       "<td class=val>Flamboyant</td>\n",
       "<td class=val>35</td></tr><tr class=even><td class=val><a href=\"http://www.wikidata.org/entity/Q164800\" target=\"_other\">http://www.wikidata.org/entity/Q164800</a></td>\n",
       "<td class=val>Symbolism</td>\n",
       "<td class=val>34</td></tr></table><div class=\"tinfo\">Total: 54, Shown: 20</div></div>"
      ]
     },
     "metadata": {},
     "output_type": "display_data"
    }
   ],
   "source": [
    "select  ?mvt ?mvtLabel (count(?item) as ?c)\n",
    "where\n",
    "{\n",
    "?ref ?p wd:Q809825 .\n",
    "filter(contains(str(?ref), \"http://www.wikidata.org/reference/\"))\n",
    "?statement ?pref ?ref .\n",
    "?item ?ps ?statement .\n",
    "?item wdt:P135 ?mvt .\n",
    "    SERVICE wikibase:label { bd:serviceParam wikibase:language \"en\". } \n",
    "}\n",
    "group by ?mvt ?mvtLabel\n",
    "order by desc(?c)"
   ]
  },
  {
   "cell_type": "markdown",
   "id": "a2a31e48",
   "metadata": {},
   "source": [
    "me montre que 54 mouvements sont référencés et le nombre d'oeuvres liées à chaque mouvement."
   ]
  },
  {
   "cell_type": "markdown",
   "id": "9f93de13",
   "metadata": {},
   "source": [
    "Pour les créateurs, je trouve 3725 créateurs:"
   ]
  },
  {
   "cell_type": "code",
   "execution_count": 31,
   "id": "069ef1aa",
   "metadata": {},
   "outputs": [
    {
     "data": {
      "text/html": [
       "<div class=\"krn-spql\"><table><tr class=hdr><th>creator</th>\n",
       "<th>creatorLabel</th></tr><tr class=odd><td class=val><a href=\"http://www.wikidata.org/entity/Q130039\" target=\"_other\">http://www.wikidata.org/entity/Q130039</a></td>\n",
       "<td class=val>Cornelis Saftleven</td></tr><tr class=even><td class=val><a href=\"http://www.wikidata.org/entity/Q271676\" target=\"_other\">http://www.wikidata.org/entity/Q271676</a></td>\n",
       "<td class=val>Charles Le Brun</td></tr><tr class=odd><td class=val><a href=\"http://www.wikidata.org/entity/Q2113338\" target=\"_other\">http://www.wikidata.org/entity/Q2113338</a></td>\n",
       "<td class=val>Prosper Lafaye</td></tr><tr class=even><td class=val><a href=\"http://www.wikidata.org/entity/Q315996\" target=\"_other\">http://www.wikidata.org/entity/Q315996</a></td>\n",
       "<td class=val>Jan van Goyen</td></tr><tr class=odd><td class=val><a href=\"http://www.wikidata.org/entity/Q1341719\" target=\"_other\">http://www.wikidata.org/entity/Q1341719</a></td>\n",
       "<td class=val>François-Léon Benouville</td></tr><tr class=even><td class=val>t2304213301</td>\n",
       "<td class=val>t2304213301</td></tr><tr class=odd><td class=val><a href=\"http://www.wikidata.org/entity/Q163543\" target=\"_other\">http://www.wikidata.org/entity/Q163543</a></td>\n",
       "<td class=val>François Gérard</td></tr><tr class=even><td class=val><a href=\"http://www.wikidata.org/entity/Q334946\" target=\"_other\">http://www.wikidata.org/entity/Q334946</a></td>\n",
       "<td class=val>Pierre-Henri de Valenciennes</td></tr><tr class=odd><td class=val><a href=\"http://www.wikidata.org/entity/Q707729\" target=\"_other\">http://www.wikidata.org/entity/Q707729</a></td>\n",
       "<td class=val>Jean François de Troy</td></tr><tr class=even><td class=val><a href=\"http://www.wikidata.org/entity/Q975135\" target=\"_other\">http://www.wikidata.org/entity/Q975135</a></td>\n",
       "<td class=val>Noël Coypel</td></tr><tr class=odd><td class=val><a href=\"http://www.wikidata.org/entity/Q23380\" target=\"_other\">http://www.wikidata.org/entity/Q23380</a></td>\n",
       "<td class=val>Jean-Auguste-Dominique Ingres</td></tr><tr class=even><td class=val><a href=\"http://www.wikidata.org/entity/Q5432\" target=\"_other\">http://www.wikidata.org/entity/Q5432</a></td>\n",
       "<td class=val>Francisco Goya</td></tr><tr class=odd><td class=val><a href=\"http://www.wikidata.org/entity/Q150679\" target=\"_other\">http://www.wikidata.org/entity/Q150679</a></td>\n",
       "<td class=val>Anthony van Dyck</td></tr><tr class=even><td class=val><a href=\"http://www.wikidata.org/entity/Q180932\" target=\"_other\">http://www.wikidata.org/entity/Q180932</a></td>\n",
       "<td class=val>François Boucher</td></tr><tr class=odd><td class=val><a href=\"http://www.wikidata.org/entity/Q5163689\" target=\"_other\">http://www.wikidata.org/entity/Q5163689</a></td>\n",
       "<td class=val>Constantijn Netscher</td></tr><tr class=even><td class=val>t2303411425</td>\n",
       "<td class=val>t2303411425</td></tr><tr class=odd><td class=val>t2303995166</td>\n",
       "<td class=val>t2303995166</td></tr><tr class=even><td class=val>t2304061531</td>\n",
       "<td class=val>t2304061531</td></tr><tr class=odd><td class=val><a href=\"http://www.wikidata.org/entity/Q213612\" target=\"_other\">http://www.wikidata.org/entity/Q213612</a></td>\n",
       "<td class=val>Jacob van Ruisdael</td></tr><tr class=even><td class=val><a href=\"http://www.wikidata.org/entity/Q944962\" target=\"_other\">http://www.wikidata.org/entity/Q944962</a></td>\n",
       "<td class=val>Achille Etna Michallon</td></tr></table><div class=\"tinfo\">Total: 3725, Shown: 20</div></div>"
      ]
     },
     "metadata": {},
     "output_type": "display_data"
    }
   ],
   "source": [
    "select distinct ?creator ?creatorLabel\n",
    "where\n",
    "{\n",
    "?ref ?p wd:Q809825 .\n",
    "filter(contains(str(?ref), \"http://www.wikidata.org/reference/\"))\n",
    "?statement ?pref ?ref .\n",
    "?item ?ps ?statement .\n",
    "?item wdt:P170 ?creator\n",
    "SERVICE wikibase:label { bd:serviceParam wikibase:language \"en\". } \n",
    "}"
   ]
  },
  {
   "cell_type": "markdown",
   "id": "38675e18",
   "metadata": {},
   "source": [
    "reliés à 99 mouvements:"
   ]
  },
  {
   "cell_type": "code",
   "execution_count": 38,
   "id": "4e79ab57",
   "metadata": {},
   "outputs": [
    {
     "data": {
      "text/html": [
       "<div class=\"krn-spql\"><table><tr class=hdr><th>mvt</th>\n",
       "<th>mvtLabel</th>\n",
       "<th>c</th></tr><tr class=odd><td class=val><a href=\"http://www.wikidata.org/entity/Q37853\" target=\"_other\">http://www.wikidata.org/entity/Q37853</a></td>\n",
       "<td class=val>Baroque</td>\n",
       "<td class=val>5346</td></tr><tr class=even><td class=val><a href=\"http://www.wikidata.org/entity/Q37068\" target=\"_other\">http://www.wikidata.org/entity/Q37068</a></td>\n",
       "<td class=val>Romanticism</td>\n",
       "<td class=val>3667</td></tr><tr class=odd><td class=val><a href=\"http://www.wikidata.org/entity/Q164800\" target=\"_other\">http://www.wikidata.org/entity/Q164800</a></td>\n",
       "<td class=val>Symbolism</td>\n",
       "<td class=val>3208</td></tr><tr class=even><td class=val><a href=\"http://www.wikidata.org/entity/Q14378\" target=\"_other\">http://www.wikidata.org/entity/Q14378</a></td>\n",
       "<td class=val>neoclassicism</td>\n",
       "<td class=val>3196</td></tr><tr class=odd><td class=val><a href=\"http://www.wikidata.org/entity/Q122960\" target=\"_other\">http://www.wikidata.org/entity/Q122960</a></td>\n",
       "<td class=val>Rococo</td>\n",
       "<td class=val>2043</td></tr><tr class=even><td class=val><a href=\"http://www.wikidata.org/entity/Q170292\" target=\"_other\">http://www.wikidata.org/entity/Q170292</a></td>\n",
       "<td class=val>classicism</td>\n",
       "<td class=val>1754</td></tr><tr class=odd><td class=val><a href=\"http://www.wikidata.org/entity/Q1994273\" target=\"_other\">http://www.wikidata.org/entity/Q1994273</a></td>\n",
       "<td class=val>Flemish Baroque painting</td>\n",
       "<td class=val>1501</td></tr><tr class=even><td class=val><a href=\"http://www.wikidata.org/entity/Q2642826\" target=\"_other\">http://www.wikidata.org/entity/Q2642826</a></td>\n",
       "<td class=val>Realism</td>\n",
       "<td class=val>1424</td></tr><tr class=odd><td class=val><a href=\"http://www.wikidata.org/entity/Q10857409\" target=\"_other\">http://www.wikidata.org/entity/Q10857409</a></td>\n",
       "<td class=val>Realism</td>\n",
       "<td class=val>1357</td></tr><tr class=even><td class=val><a href=\"http://www.wikidata.org/entity/Q808561\" target=\"_other\">http://www.wikidata.org/entity/Q808561</a></td>\n",
       "<td class=val>Baroque painting</td>\n",
       "<td class=val>1342</td></tr><tr class=odd><td class=val><a href=\"http://www.wikidata.org/entity/Q40415\" target=\"_other\">http://www.wikidata.org/entity/Q40415</a></td>\n",
       "<td class=val>Impressionism</td>\n",
       "<td class=val>1173</td></tr><tr class=even><td class=val><a href=\"http://www.wikidata.org/entity/Q143357\" target=\"_other\">http://www.wikidata.org/entity/Q143357</a></td>\n",
       "<td class=val>Barbizon school</td>\n",
       "<td class=val>985</td></tr><tr class=odd><td class=val><a href=\"http://www.wikidata.org/entity/Q2352880\" target=\"_other\">http://www.wikidata.org/entity/Q2352880</a></td>\n",
       "<td class=val>Dutch Golden Age painting</td>\n",
       "<td class=val>888</td></tr><tr class=even><td class=val><a href=\"http://www.wikidata.org/entity/Q2614483\" target=\"_other\">http://www.wikidata.org/entity/Q2614483</a></td>\n",
       "<td class=val>Pre-romanticism</td>\n",
       "<td class=val>875</td></tr><tr class=odd><td class=val><a href=\"http://www.wikidata.org/entity/Q189458\" target=\"_other\">http://www.wikidata.org/entity/Q189458</a></td>\n",
       "<td class=val>academic art</td>\n",
       "<td class=val>812</td></tr><tr class=even><td class=val><a href=\"http://www.wikidata.org/entity/Q42865\" target=\"_other\">http://www.wikidata.org/entity/Q42865</a></td>\n",
       "<td class=val>Orientalism</td>\n",
       "<td class=val>811</td></tr><tr class=odd><td class=val><a href=\"http://www.wikidata.org/entity/Q131808\" target=\"_other\">http://www.wikidata.org/entity/Q131808</a></td>\n",
       "<td class=val>Mannerism</td>\n",
       "<td class=val>659</td></tr><tr class=even><td class=val><a href=\"http://www.wikidata.org/entity/Q443153\" target=\"_other\">http://www.wikidata.org/entity/Q443153</a></td>\n",
       "<td class=val>Flemish Primitives</td>\n",
       "<td class=val>341</td></tr><tr class=odd><td class=val><a href=\"http://www.wikidata.org/entity/Q200034\" target=\"_other\">http://www.wikidata.org/entity/Q200034</a></td>\n",
       "<td class=val>pointillism</td>\n",
       "<td class=val>336</td></tr><tr class=even><td class=val><a href=\"http://www.wikidata.org/entity/Q150091\" target=\"_other\">http://www.wikidata.org/entity/Q150091</a></td>\n",
       "<td class=val>neo-impressionism</td>\n",
       "<td class=val>324</td></tr></table><div class=\"tinfo\">Total: 99, Shown: 20</div></div>"
      ]
     },
     "metadata": {},
     "output_type": "display_data"
    }
   ],
   "source": [
    "select distinct ?mvt ?mvtLabel (count(?item) as ?c)\n",
    "where\n",
    "{\n",
    "?ref ?p wd:Q809825 .\n",
    "filter(contains(str(?ref), \"http://www.wikidata.org/reference/\"))\n",
    "?statement ?pref ?ref .\n",
    "?item ?ps ?statement .\n",
    "?item wdt:P170 ?creator .\n",
    "?creator wdt:P135 ?mvt\n",
    "         SERVICE wikibase:label { bd:serviceParam wikibase:language \"en\". } \n",
    "}\n",
    "group by ?mvt ?mvtLabel\n",
    "order by desc(?c)"
   ]
  },
  {
   "cell_type": "markdown",
   "id": "a088bdf5",
   "metadata": {},
   "source": [
    "Enfin je trouve un maximum de 6 mouvements pour un créateur, Emile Bernard (wd:Q264193). En fait, 627 créateurs sont associés à au moins un mouvement, généralement un seul."
   ]
  },
  {
   "cell_type": "code",
   "execution_count": 39,
   "id": "b425ef0d",
   "metadata": {},
   "outputs": [
    {
     "data": {
      "text/html": [
       "<div class=\"krn-spql\"><table><tr class=hdr><th>creator</th>\n",
       "<th>creatorLabel</th>\n",
       "<th>c</th></tr><tr class=odd><td class=val><a href=\"http://www.wikidata.org/entity/Q264193\" target=\"_other\">http://www.wikidata.org/entity/Q264193</a></td>\n",
       "<td class=val>Émile Bernard</td>\n",
       "<td class=val>6</td></tr><tr class=even><td class=val><a href=\"http://www.wikidata.org/entity/Q37693\" target=\"_other\">http://www.wikidata.org/entity/Q37693</a></td>\n",
       "<td class=val>Paul Gauguin</td>\n",
       "<td class=val>5</td></tr><tr class=odd><td class=val><a href=\"http://www.wikidata.org/entity/Q5589\" target=\"_other\">http://www.wikidata.org/entity/Q5589</a></td>\n",
       "<td class=val>Henri Matisse</td>\n",
       "<td class=val>5</td></tr><tr class=even><td class=val><a href=\"http://www.wikidata.org/entity/Q1063574\" target=\"_other\">http://www.wikidata.org/entity/Q1063574</a></td>\n",
       "<td class=val>Charles Angrand</td>\n",
       "<td class=val>4</td></tr><tr class=odd><td class=val><a href=\"http://www.wikidata.org/entity/Q212499\" target=\"_other\">http://www.wikidata.org/entity/Q212499</a></td>\n",
       "<td class=val>Jean-Léon Gérôme</td>\n",
       "<td class=val>4</td></tr><tr class=even><td class=val><a href=\"http://www.wikidata.org/entity/Q9440\" target=\"_other\">http://www.wikidata.org/entity/Q9440</a></td>\n",
       "<td class=val>Paolo Veronese</td>\n",
       "<td class=val>4</td></tr><tr class=odd><td class=val><a href=\"http://www.wikidata.org/entity/Q351746\" target=\"_other\">http://www.wikidata.org/entity/Q351746</a></td>\n",
       "<td class=val>Joaquín Sorolla</td>\n",
       "<td class=val>4</td></tr><tr class=even><td class=val><a href=\"http://www.wikidata.org/entity/Q326606\" target=\"_other\">http://www.wikidata.org/entity/Q326606</a></td>\n",
       "<td class=val>Paul Sérusier</td>\n",
       "<td class=val>4</td></tr><tr class=odd><td class=val><a href=\"http://www.wikidata.org/entity/Q34013\" target=\"_other\">http://www.wikidata.org/entity/Q34013</a></td>\n",
       "<td class=val>Georges Seurat</td>\n",
       "<td class=val>3</td></tr><tr class=even><td class=val><a href=\"http://www.wikidata.org/entity/Q310715\" target=\"_other\">http://www.wikidata.org/entity/Q310715</a></td>\n",
       "<td class=val>Henri Fantin-Latour</td>\n",
       "<td class=val>3</td></tr><tr class=odd><td class=val><a href=\"http://www.wikidata.org/entity/Q5593\" target=\"_other\">http://www.wikidata.org/entity/Q5593</a></td>\n",
       "<td class=val>Pablo Picasso</td>\n",
       "<td class=val>3</td></tr><tr class=even><td class=val><a href=\"http://www.wikidata.org/entity/Q177978\" target=\"_other\">http://www.wikidata.org/entity/Q177978</a></td>\n",
       "<td class=val>Henri-Jean Guillaume Martin</td>\n",
       "<td class=val>3</td></tr><tr class=odd><td class=val><a href=\"http://www.wikidata.org/entity/Q33978\" target=\"_other\">http://www.wikidata.org/entity/Q33978</a></td>\n",
       "<td class=val>Robert Delaunay</td>\n",
       "<td class=val>3</td></tr><tr class=even><td class=val><a href=\"http://www.wikidata.org/entity/Q8459\" target=\"_other\">http://www.wikidata.org/entity/Q8459</a></td>\n",
       "<td class=val>Giorgione</td>\n",
       "<td class=val>3</td></tr><tr class=odd><td class=val><a href=\"http://www.wikidata.org/entity/Q630973\" target=\"_other\">http://www.wikidata.org/entity/Q630973</a></td>\n",
       "<td class=val>Albert Lebourg</td>\n",
       "<td class=val>3</td></tr><tr class=even><td class=val><a href=\"http://www.wikidata.org/entity/Q44007\" target=\"_other\">http://www.wikidata.org/entity/Q44007</a></td>\n",
       "<td class=val>Paul Klee</td>\n",
       "<td class=val>3</td></tr><tr class=odd><td class=val><a href=\"http://www.wikidata.org/entity/Q122382\" target=\"_other\">http://www.wikidata.org/entity/Q122382</a></td>\n",
       "<td class=val>Henry Fuseli</td>\n",
       "<td class=val>3</td></tr><tr class=even><td class=val><a href=\"http://www.wikidata.org/entity/Q23380\" target=\"_other\">http://www.wikidata.org/entity/Q23380</a></td>\n",
       "<td class=val>Jean-Auguste-Dominique Ingres</td>\n",
       "<td class=val>2</td></tr><tr class=odd><td class=val><a href=\"http://www.wikidata.org/entity/Q271676\" target=\"_other\">http://www.wikidata.org/entity/Q271676</a></td>\n",
       "<td class=val>Charles Le Brun</td>\n",
       "<td class=val>2</td></tr><tr class=even><td class=val><a href=\"http://www.wikidata.org/entity/Q148475\" target=\"_other\">http://www.wikidata.org/entity/Q148475</a></td>\n",
       "<td class=val>Jean-Baptiste Camille Corot</td>\n",
       "<td class=val>2</td></tr></table><div class=\"tinfo\">Total: 627, Shown: 20</div></div>"
      ]
     },
     "metadata": {},
     "output_type": "display_data"
    }
   ],
   "source": [
    "select ?creator  ?creatorLabel (count(distinct ?mvt) as ?c)\n",
    "where\n",
    "{\n",
    "?ref ?p wd:Q809825 .\n",
    "filter(contains(str(?ref), \"http://www.wikidata.org/reference/\"))\n",
    "?statement ?pref ?ref .\n",
    "?item ?ps ?statement .\n",
    "?item wdt:P170 ?creator .\n",
    "?creator wdt:P135 ?mvt\n",
    "SERVICE wikibase:label { bd:serviceParam wikibase:language \"en\". } \n",
    "}\n",
    "group by ?creator ?creatorLabel\n",
    "order by desc(?c)"
   ]
  }
 ],
 "metadata": {
  "kernelspec": {
   "display_name": "SPARQL",
   "language": "sparql",
   "name": "sparql"
  },
  "language_info": {
   "codemirror_mode": {
    "name": "sparql"
   },
   "mimetype": "application/sparql-query",
   "name": "sparql",
   "pygments_lexer": "sparql-nb"
  }
 },
 "nbformat": 4,
 "nbformat_minor": 5
}
